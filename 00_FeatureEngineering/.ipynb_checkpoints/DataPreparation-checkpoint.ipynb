{
 "cells": [
  {
   "cell_type": "markdown",
   "id": "e2491970-fc36-40c6-b628-f9fe7eca66db",
   "metadata": {},
   "source": [
    "## Feature Engineering\n",
    "Feature engineering is the process of using domain knowledge to extract features from raw data that make machine learning algorithms work. Effective feature engineering can significantly improve the performance of a model by providing it with relevant information.\n"
   ]
  },
  {
   "cell_type": "code",
   "execution_count": null,
   "id": "0098d4f7-dc55-42b7-a997-813b691bc060",
   "metadata": {},
   "outputs": [],
   "source": [
    "# import Functions\n",
    "import FeatureEngineeringFunctions\n",
    "import pandas as pd\n",
    "import nump as np\n",
    "import holidays\n",
    "from sklearn.preprocessing import OneHotEncoder"
   ]
  },
  {
   "cell_type": "code",
   "execution_count": null,
   "id": "9a6919dd-a7e9-445b-9cda-c0b23a671331",
   "metadata": {},
   "outputs": [],
   "source": [
    "# import and show unprocessed data\n",
    "file_path = \"/home/renku/work/ckw-pv-data/PVPanelInsights.parquet\"\n",
    "df_edh = pd.read_parquet(file_path)\n",
    "\n",
    "print(df_edh25.shape)\n",
    "print(df_edh25.head())"
   ]
  },
  {
   "cell_type": "markdown",
   "id": "858ce87c-cee3-46a3-853a-ec7e6e561cad",
   "metadata": {},
   "source": [
    "#### Data Preparation\n",
    "\n",
    "**Define Column Types** <br>\n",
    "We convert the 'day_of_week' column to an integer type for easier analysis and the 'time' column to datetime for time-based features.\n",
    "\n",
    "**Create Binary Columns**<br>\n",
    "These binary columns help the model understand the influence of weather conditions and weekends on energy consumption."
   ]
  },
  {
   "cell_type": "code",
   "execution_count": null,
   "id": "cea0a4c8-f14f-4e92-9040-aab0df7280d1",
   "metadata": {},
   "outputs": [],
   "source": [
    "df_edh25['day_of_week'] = df_edh25['day_of_week'].astype(int)\n",
    "df_edh25['time'] = pd.to_datetime(df_edh25['time'])\n",
    "\n",
    "# create a binary is raining and is weekend column \n",
    "df_edh25['is_raining'] = (df_edh25['precip_15min:mm'] > 0).astype(int)\n",
    "df_edh25['is_weekend'] = df_edh25['day_of_week'].isin([5, 6]).astype(int)\n",
    "\n",
    "# round values\n",
    "df_edh25['PanelPeakLeistung'] = df_edh25['PanelPeakLeistung'].round(1)\n",
    "\n",
    "# remove negative values\n",
    "df_edh25['sun_elevation:d'].clip(lower=0, inplace=True)\n",
    "\n",
    "# extract time in minutes after midnight\n",
    "df_edh25['time_in_minutes'] = df_edh25[\"time\"].dt.hour * 60 + df_edh25[\"time\"].dt.minute"
   ]
  },
  {
   "cell_type": "markdown",
   "id": "a3a3de83-8030-4288-bd91-332bea904c60",
   "metadata": {},
   "source": [
    "#### Sin-Cos Transform\n",
    "This transformation is useful for cyclical features like time or day of the week, as it allows the model to learn the cyclical nature of these features without introducing discontinuities."
   ]
  },
  {
   "cell_type": "code",
   "execution_count": null,
   "id": "c939ca7e-332d-4170-9783-b68130351695",
   "metadata": {},
   "outputs": [],
   "source": [
    "columns_to_transform = {\n",
    "    \"month\": 12,\n",
    "    \"hour\": 24,\n",
    "    \"time_in_minutes\": 1440,\n",
    "    \"day_of_week\": 7,\n",
    "    \"Ausrichtung_Grad\": 360,\n",
    "    \"Anstellwinkel\": 90,\n",
    "    \"sun_elevation:d\": 90\n",
    "}\n",
    "\n",
    "# transform columns \n",
    "for column, period in columns_to_transform.items():\n",
    "    df_edh25 = add_sin_cos_transform(df_edh25, column, period)"
   ]
  },
  {
   "cell_type": "markdown",
   "id": "a5d7f85b-c72d-43eb-b055-58daed61bda8",
   "metadata": {},
   "source": [
    "#### One-Hot Encoding\n",
    "One-hot encoding converts categorical variables into a format that can be provided to ML algorithms. Dropping the first category prevents redundancy and multicollinearity."
   ]
  },
  {
   "cell_type": "code",
   "execution_count": null,
   "id": "24a3001f-bd84-4bd6-b991-ebc3b1f28b16",
   "metadata": {},
   "outputs": [],
   "source": [
    "df_edh25 = pd.get_dummies(df_edh25, columns=['buildingCategory', 'buildingClass', \"periodOfConstruction\",\n",
    "                                             \"heatGeneratorHeating\", \"energySourceHeating\", \"heatGeneratorHotWater\",\n",
    "                                             \"energySourceHotWater\", \"Ausrichtung\"], drop_first=True)"
   ]
  },
  {
   "cell_type": "markdown",
   "id": "37b984fa-5ae6-42e6-a617-df226dfdddee",
   "metadata": {},
   "source": [
    "#### Build Lags\n",
    "Lag features are critical in time series analysis as they help capture temporal dependencies, allowing the model to learn from previous values. We also extract rolling mean and the autocorrelation."
   ]
  },
  {
   "cell_type": "code",
   "execution_count": null,
   "id": "1196972b-7413-4758-b110-4e7c246b2a7e",
   "metadata": {},
   "outputs": [],
   "source": [
    "columns_to_prepare = [\"Überschuss\", \"clear_sky_rad_15min:Wh\", \"dew_point_min_2m_1h:C\", \"diffuse_rad_15min:Wh\", \"direct_rad_15min:Wh\", \"global_rad_15min:Wh\", \"precip_15min:mm\", \"relative_humidity_min_2m_1h:p\", \"snow_depth:mm\", \"sun_elevation:d\", \"t_mean_2m_1h:C\", \"wind_speed_mean_10m_15min:ms\"]\n",
    "\n",
    "for column in columns_to_prepare:\n",
    "    df_edh25 = build_lags(df_edh25, column=column, group_by='id', time_column='datum')\n",
    "\n",
    "# the first values are missing. So we fill them. \n",
    "df_edh25.fillna(method='bfill', inplace=True)"
   ]
  },
  {
   "cell_type": "markdown",
   "id": "237fc937-1447-44b7-87cc-a0bcda7d5495",
   "metadata": {},
   "source": [
    "#### Holidays\n",
    "Including holidays as a feature helps the model account for variations in energy consumption patterns during these days."
   ]
  },
  {
   "cell_type": "code",
   "execution_count": null,
   "id": "d5fdc060-bc8f-459f-95d4-5bbea921b08d",
   "metadata": {},
   "outputs": [],
   "source": [
    "# fetch holidays \n",
    "swiss_holidays = holidays.Switzerland(subdiv='LU', years=range(2022, 2026))\n",
    "df_edh25['is_holiday'] = df_edh25['datum'].isin(swiss_holidays)"
   ]
  },
  {
   "cell_type": "markdown",
   "id": "e9f948aa-ec8c-4f44-bdf9-0d9f741d11a1",
   "metadata": {},
   "source": [
    "#### Clean Dataset and Split\n",
    "We clean the data to remove any inconsistencies and split it into training and validation sets while ensuring the validation set contains future values to simulate real-world predictions."
   ]
  },
  {
   "cell_type": "code",
   "execution_count": null,
   "id": "b0d6c367-23d2-40e2-94cf-3e3fe9db9f93",
   "metadata": {},
   "outputs": [],
   "source": [
    "df_edh25 = clean_data(df_edh25)"
   ]
  },
  {
   "cell_type": "code",
   "execution_count": null,
   "id": "273c4d16-c711-460c-958f-16ea538e80e8",
   "metadata": {},
   "outputs": [],
   "source": [
    "# sort the data by date\n",
    "df_sorted = df_edh25.sort_values('datum')\n",
    "\n",
    "# define the split, we go for a 80% train and 20% validation split\n",
    "split_index = int(len(df_sorted) * 0.8)  \n",
    "train_data = df_sorted.iloc[:split_index]\n",
    "val_data = df_sorted.iloc[split_index:]\n",
    "\n",
    "# define the value we need to predict \n",
    "y_train = train_data['production:kWh']\n",
    "x_train = train_data.drop(columns=[\"datum\", \"production:kWh\"])\n",
    "\n",
    "y_val = val_data['production:kWh']\n",
    "x_val = val_data.drop(columns=[\"datum\", \"production:kWh\"])"
   ]
  }
 ],
 "metadata": {
  "kernelspec": {
   "display_name": "Python3",
   "language": "python",
   "name": "python3"
  },
  "language_info": {
   "codemirror_mode": {
    "name": "ipython",
    "version": 3
   },
   "file_extension": ".py",
   "mimetype": "text/x-python",
   "name": "python",
   "nbconvert_exporter": "python",
   "pygments_lexer": "ipython3",
   "version": "3.10.16"
  }
 },
 "nbformat": 4,
 "nbformat_minor": 5
}
