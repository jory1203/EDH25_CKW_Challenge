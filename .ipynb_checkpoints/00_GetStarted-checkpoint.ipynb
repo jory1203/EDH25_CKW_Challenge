{
 "cells": [
  {
   "cell_type": "markdown",
   "id": "3d5e1013-ddb8-4b99-b906-be734ec4d900",
   "metadata": {},
   "source": [
    "### Welcome to the CKW Energy Data Hackday Challenge\n",
    "The Data has already been processed and is ready for building machine learning models on it. This Notebook will help you to first import the data stored in a Blob Storage and then apply a scaler. "
   ]
  },
  {
   "cell_type": "code",
   "execution_count": null,
   "id": "cc1f6380-bea7-4392-b6cd-732da9d9f0fd",
   "metadata": {},
   "outputs": [],
   "source": [
    "# import and show data"
   ]
  },
  {
   "cell_type": "markdown",
   "id": "a936a928-6c23-4b60-aaff-8cab8f77e161",
   "metadata": {},
   "source": [
    "The data consists about 1'180'000 rows and 191 columns. We have this much of columns because some values already have been feature engineered. If you want to see the features we have expanded please watch in the folder FeatureEngineering. To get ready for machine learning we need to first scale our data."
   ]
  },
  {
   "cell_type": "code",
   "execution_count": null,
   "id": "3238e8c4-d60a-4b34-a5eb-553fc6af6e9a",
   "metadata": {},
   "outputs": [],
   "source": [
    "# scale the data with a standard scaler\n",
    "from sklearn.preprocessing import StandardScaler\n",
    "\n"
   ]
  }
 ],
 "metadata": {
  "kernelspec": {
   "display_name": "Python3",
   "language": "python",
   "name": "python3"
  },
  "language_info": {
   "codemirror_mode": {
    "name": "ipython",
    "version": 3
   },
   "file_extension": ".py",
   "mimetype": "text/x-python",
   "name": "python",
   "nbconvert_exporter": "python",
   "pygments_lexer": "ipython3",
   "version": "3.10.16"
  }
 },
 "nbformat": 4,
 "nbformat_minor": 5
}
