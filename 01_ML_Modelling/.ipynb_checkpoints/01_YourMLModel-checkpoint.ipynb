{
 "cells": [
  {
   "cell_type": "markdown",
   "id": "32623163-b1c4-4d63-a2e6-74aa5dea4519",
   "metadata": {},
   "source": [
    "# Hackdays Machine Learning Model Builder\n",
    "\n",
    "## Introduction\n",
    "In this notebook, participants will have the opportunity to build their own machine learning models. The goal is to explore different algorithms, preprocess data, and evaluate model performance.\n",
    "\n",
    "### Objectives:\n",
    "- Understand the dataset and its features.\n",
    "- Import the dataset.\n",
    "- Build and evaluate a machine learning model of your choice."
   ]
  },
  {
   "cell_type": "markdown",
   "id": "8a58db81-4563-40b0-8526-bb171ee8c85b",
   "metadata": {},
   "source": [
    "#### Import libraries"
   ]
  },
  {
   "cell_type": "code",
   "execution_count": null,
   "id": "c2aa42fa-3d3c-40f4-ae95-e25dfc6d7be7",
   "metadata": {},
   "outputs": [],
   "source": [
    "import pandas as pd\n",
    "import numpy as np\n",
    "from sklearn.preprocessing import StandardScaler"
   ]
  },
  {
   "cell_type": "markdown",
   "id": "fb216d1a-13c4-4d19-aeab-b9ef8e9e09d6",
   "metadata": {},
   "source": [
    "#### Import Data"
   ]
  },
  {
   "cell_type": "code",
   "execution_count": null,
   "id": "9a17a7d5-a84c-443b-9b20-7cc3fd88898e",
   "metadata": {},
   "outputs": [],
   "source": [
    "# Load the dataset\n",
    "file_path = \"/home/renku/work/ckw-pv-data/x_train.parquet\"  # Update this path\n",
    "data = pd.read_csv(file_path)\n",
    "\n",
    "# Display the first few rows of the dataset\n",
    "data.head()\n",
    "data.shape()\n",
    "data.info()"
   ]
  },
  {
   "cell_type": "markdown",
   "id": "98e2c684-d936-42a3-9ff3-5b3c84b29178",
   "metadata": {},
   "source": [
    "#### Apply scaler"
   ]
  },
  {
   "cell_type": "code",
   "execution_count": null,
   "id": "d24c8a35-5ad6-475e-b3a8-8aac9032d7c9",
   "metadata": {},
   "outputs": [],
   "source": [
    "scaler = StandardScaler()\n",
    "X_train = scaler.fit_transform(X_train)\n",
    "X_test = scaler.transform(X_test)"
   ]
  },
  {
   "cell_type": "markdown",
   "id": "a6339cc0-caae-4846-84fd-7760bc467eed",
   "metadata": {},
   "source": [
    "### Build your ML Model\n",
    "Now it's your turn to build your own machine learning model! Feel free to experiment with different algorithms, hyperparameters, and evaluation metrics."
   ]
  },
  {
   "cell_type": "code",
   "execution_count": null,
   "id": "8a83096c-4322-462d-a8de-252d54cedbb0",
   "metadata": {},
   "outputs": [],
   "source": []
  },
  {
   "cell_type": "code",
   "execution_count": null,
   "id": "0735a269-2a20-47d9-88b4-c7fa9ba9b15b",
   "metadata": {},
   "outputs": [],
   "source": []
  },
  {
   "cell_type": "code",
   "execution_count": null,
   "id": "4e12276f-0a81-46b6-a823-09930a9b5dc5",
   "metadata": {},
   "outputs": [],
   "source": []
  }
 ],
 "metadata": {
  "kernelspec": {
   "display_name": "Python3",
   "language": "python",
   "name": "python3"
  },
  "language_info": {
   "codemirror_mode": {
    "name": "ipython",
    "version": 3
   },
   "file_extension": ".py",
   "mimetype": "text/x-python",
   "name": "python",
   "nbconvert_exporter": "python",
   "pygments_lexer": "ipython3",
   "version": "3.10.16"
  }
 },
 "nbformat": 4,
 "nbformat_minor": 5
}
